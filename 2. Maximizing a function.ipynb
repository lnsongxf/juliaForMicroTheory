{
 "cells": [
  {
   "cell_type": "markdown",
   "metadata": {},
   "source": [
    "In this notebook I'll show how to maximize/minimize a function in Julia using the optim package. \n",
    "\n",
    "(We cover only unconstrained optimization with domain restrictions for now.)"
   ]
  },
  {
   "cell_type": "markdown",
   "metadata": {},
   "source": [
    "# Minimizing a univariate function"
   ]
  },
  {
   "cell_type": "markdown",
   "metadata": {},
   "source": [
    "We will find the minimum of the function $f(x)=(x-1)^2$. Admittedly, there is no need for using a computed to solve such a  simple problem but that makes it easier to show how to do it (and then you can use whatever complicated function you like).\n",
    "\n",
    "We will use the Optim package. So, if you have not installed it yet, you need to install it now:"
   ]
  },
  {
   "cell_type": "code",
   "execution_count": 1,
   "metadata": {
    "collapsed": false
   },
   "outputs": [
    {
     "name": "stderr",
     "output_type": "stream",
     "text": [
      "\u001b[1m\u001b[36mINFO: \u001b[39m\u001b[22m\u001b[36mNo packages to install, update or remove\n",
      "\u001b[39m\u001b[1m\u001b[36mINFO: \u001b[39m\u001b[22m\u001b[36mPackage database updated\n",
      "\u001b[39m\u001b[1m\u001b[36mINFO: \u001b[39m\u001b[22m\u001b[36mMETADATA is out-of-date — you may not have the latest version of Optim\n",
      "\u001b[39m\u001b[1m\u001b[36mINFO: \u001b[39m\u001b[22m\u001b[36mUse `Pkg.update()` to get the latest versions of your packages\n",
      "\u001b[39m"
     ]
    }
   ],
   "source": [
    "Pkg.add(\"Optim\")"
   ]
  },
  {
   "cell_type": "markdown",
   "metadata": {},
   "source": [
    "Next I tell Julia to use Optim and define the function that I want to maximize."
   ]
  },
  {
   "cell_type": "code",
   "execution_count": 10,
   "metadata": {
    "collapsed": false
   },
   "outputs": [
    {
     "data": {
      "text/plain": [
       "f (generic function with 1 method)"
      ]
     },
     "execution_count": 10,
     "metadata": {},
     "output_type": "execute_result"
    }
   ],
   "source": [
    "using Optim\n",
    "\n",
    "f(x)=(x-1)^2"
   ]
  },
  {
   "cell_type": "markdown",
   "metadata": {},
   "source": [
    "and now we are ready for optimizing it: The command is \"optimize\" and its first argument is the function that you want  to optimize. Then you tell Optim a lower and an upper bound, i.e. you tell it an interval in which it whould look for the lowest function value. I choose -5 and 5 as boundaries which means that Optim will search for the x in the interval $[0,5]$ that minimizes $f$. A you can see, Optim finds the minimizer 1 and the minimum 0."
   ]
  },
  {
   "cell_type": "code",
   "execution_count": 11,
   "metadata": {
    "collapsed": false
   },
   "outputs": [
    {
     "data": {
      "text/plain": [
       "Results of Optimization Algorithm\n",
       " * Algorithm: Brent's Method\n",
       " * Search Interval: [-5.000000, 5.000000]\n",
       " * Minimizer: 1.000000e+00\n",
       " * Minimum: 0.000000e+00\n",
       " * Iterations: 5\n",
       " * Convergence: max(|x - x_upper|, |x - x_lower|) <= 2*(1.5e-08*|x|+2.2e-16): true\n",
       " * Objective Function Calls: 6"
      ]
     },
     "execution_count": 11,
     "metadata": {},
     "output_type": "execute_result"
    }
   ],
   "source": [
    "optimize(f,-5,5)"
   ]
  },
  {
   "cell_type": "markdown",
   "metadata": {},
   "source": [
    "## but I want to maximize..."
   ]
  },
  {
   "cell_type": "markdown",
   "metadata": {},
   "source": [
    "If you want to maximize a function, say $g(x)=-(x-1)^2$, then you can just as well minimize the negative of the function; i.e. to solve $\\max_x\\, g(x)$ you can solve $\\min_x\\, -g(x)$. The minimizer is the maximizer in the original problem and the minimum is the negative of the maximum of the original problem. "
   ]
  },
  {
   "cell_type": "markdown",
   "metadata": {},
   "source": [
    "# Multivariate functions"
   ]
  },
  {
   "cell_type": "markdown",
   "metadata": {},
   "source": [
    "First I have to tell you how to input multivariate functions into julia. There are several ways. I give several ways that all create the function \n",
    "$$g(z,y)=(1 - z)^2 + 100 * (y - z^2)^2$$"
   ]
  },
  {
   "cell_type": "code",
   "execution_count": 23,
   "metadata": {
    "collapsed": false
   },
   "outputs": [
    {
     "data": {
      "text/plain": [
       "g (generic function with 1 method)"
      ]
     },
     "execution_count": 23,
     "metadata": {},
     "output_type": "execute_result"
    }
   ],
   "source": [
    "#option 1: math way\n",
    "g(z,y)=(1 - z)^2 + 100 * (y - z^2)^2\n",
    "\n",
    "#option 2: computer science way\n",
    "function g(z,y)\n",
    "    return (1 - z)^2 + 100 * (y - z^2)^2\n",
    "end"
   ]
  },
  {
   "cell_type": "markdown",
   "metadata": {},
   "source": [
    "There are further options: Instead of representing $g$ as a function of 2 variables I could represent it as a function of one variable $x$ where this variable $x$ is a vector with two components x[1] and x[2] which I do next.\n",
    "\n",
    "(Strangely enough this is the representation that we will need for the minimization below.)"
   ]
  },
  {
   "cell_type": "code",
   "execution_count": 22,
   "metadata": {
    "collapsed": false
   },
   "outputs": [
    {
     "data": {
      "text/plain": [
       "h (generic function with 1 method)"
      ]
     },
     "execution_count": 22,
     "metadata": {},
     "output_type": "execute_result"
    }
   ],
   "source": [
    "h(x)=(1 - x[1])^2 + 100 * (x[2] - x[1]^2)^2\n",
    "\n",
    "function h(x)\n",
    "    return (1 - x[1])^2 + 100 * (x[2] - x[1]^2)^2\n",
    "end"
   ]
  },
  {
   "cell_type": "markdown",
   "metadata": {},
   "source": [
    "Now we can minimize this multivariate function, i.e. solve\n",
    "$$\\min_{y,z} (1 - z)^2 + 100 * (y - z^2)^2.$$\n",
    "The way we represent this problem in Optim is as minimization of one varaible $x$ which is a vector containing two variables (what used to be z and y above) which we call x[1], the first component of the vector, and x[2], the second component of the vector. The minimization problem looks then like\n",
    "$$\\min_x  (1 - x[1])^2 + 100 * (x[2] - x[1]^2)^2.$$\n",
    "Let's ask Optim to solve for the minimum. \n",
    "\n",
    "Unfortunately, some things change a bit compared to the univariate case above. Instead of telling optim an interval in which it should search, I am giving it a start point [0.0,0.0]. Note that you should write [0.0, 0.0] and not [0,0]. If you do the latter, Julia is not sure whether you want to consider integers only (I think...anyway you get an error if you try)."
   ]
  },
  {
   "cell_type": "code",
   "execution_count": 16,
   "metadata": {
    "collapsed": false
   },
   "outputs": [
    {
     "data": {
      "text/plain": [
       "Results of Optimization Algorithm\n",
       " * Algorithm: Nelder-Mead\n",
       " * Starting Point: [0.0,0.0]\n",
       " * Minimizer: [0.9999634355313174,0.9999315506115275]\n",
       " * Minimum: 3.525527e-09\n",
       " * Iterations: 60\n",
       " * Convergence: true\n",
       "   *  √(Σ(yᵢ-ȳ)²)/n < 1.0e-08: true\n",
       "   * Reached Maximum Number of Iterations: false\n",
       " * Objective Calls: 117"
      ]
     },
     "execution_count": 16,
     "metadata": {},
     "output_type": "execute_result"
    }
   ],
   "source": [
    "optimize(h,[0.0,0.0])"
   ]
  },
  {
   "cell_type": "markdown",
   "metadata": {},
   "source": [
    "## but I need to give these box constraints"
   ]
  },
  {
   "cell_type": "markdown",
   "metadata": {},
   "source": [
    "You might have a problem where variables are constraint, e.g. your variable represents a probability which can only be between 0 and 1. You can give these so called box-constraints to Optim also in the multivariate case. Say we need in the optimization problem above x[1] to be between 0 and 0.5 and x[2] between -2 and 1. We write this in the following way: After the starting value [0.0,0.0], we give the lower bounds [-0.5,-2.0], then the upper bounds [0.5,1.0] and finally we tell Optim that we want to use a method that can handle box contraints. This method is called Fminbox and because FminBox is itself a function we have to write it as \"Fminbox()\"."
   ]
  },
  {
   "cell_type": "code",
   "execution_count": 21,
   "metadata": {
    "collapsed": false
   },
   "outputs": [
    {
     "data": {
      "text/plain": [
       "Results of Optimization Algorithm\n",
       " * Algorithm: Fminbox with Conjugate Gradient\n",
       " * Starting Point: [0.0,0.0]\n",
       " * Minimizer: [0.49999999999963624,0.2500000000001418]\n",
       " * Minimum: 2.500000e-01\n",
       " * Iterations: 4\n",
       " * Convergence: true\n",
       "   * |x - x'| < 1.0e-32: false \n",
       "     |x - x'| = 7.05e-10 \n",
       "   * |f(x) - f(x')| / |f(x)| < 1.0e-32: true\n",
       "     |f(x) - f(x')| / |f(x)| = 1.44e-09 \n",
       "   * |g(x)| < 1.0e-08: false \n",
       "     |g(x)| = 9.99e-01 \n",
       "   * stopped by an increasing objective: false\n",
       "   * Reached Maximum Number of Iterations: false\n",
       " * Objective Calls: 224\n",
       " * Gradient Calls: 172"
      ]
     },
     "execution_count": 21,
     "metadata": {},
     "output_type": "execute_result"
    }
   ],
   "source": [
    "optimize(h,[0.0,0.0],[-0.5,-2.0],[0.5,1.0],Fminbox())"
   ]
  },
  {
   "cell_type": "code",
   "execution_count": null,
   "metadata": {
    "collapsed": true
   },
   "outputs": [],
   "source": []
  }
 ],
 "metadata": {
  "kernelspec": {
   "display_name": "Julia 0.6.0",
   "language": "julia",
   "name": "julia-0.6"
  },
  "language_info": {
   "file_extension": ".jl",
   "mimetype": "application/julia",
   "name": "julia",
   "version": "0.6.0"
  }
 },
 "nbformat": 4,
 "nbformat_minor": 2
}
