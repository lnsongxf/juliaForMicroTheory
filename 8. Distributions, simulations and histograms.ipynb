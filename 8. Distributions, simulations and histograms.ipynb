{
 "cells": [
  {
   "cell_type": "markdown",
   "metadata": {},
   "source": [
    "This notebook shows how to use the Distributions package in order to\n",
    "- use common probability distributions, thier pdfs, cdfs, means etc.\n",
    "- simulate random draws from a distribution."
   ]
  },
  {
   "cell_type": "markdown",
   "metadata": {},
   "source": [
    "# Distributions"
   ]
  },
  {
   "cell_type": "markdown",
   "metadata": {},
   "source": [
    "In case you have not installed it yet, add the Distribuions package."
   ]
  },
  {
   "cell_type": "code",
   "execution_count": 1,
   "metadata": {},
   "outputs": [
    {
     "name": "stderr",
     "output_type": "stream",
     "text": [
      "\u001b[1m\u001b[36mINFO: \u001b[39m\u001b[22m\u001b[36mPackage Distributions is already installed\n",
      "\u001b[39m\u001b[1m\u001b[36mINFO: \u001b[39m\u001b[22m\u001b[36mMETADATA might be out-of-date — you may not have the latest version of Distributions\n",
      "\u001b[39m\u001b[1m\u001b[36mINFO: \u001b[39m\u001b[22m\u001b[36mUse `Pkg.update()` to get the latest versions of your packages\n",
      "\u001b[39m"
     ]
    }
   ],
   "source": [
    "Pkg.add(\"Distributions\")"
   ]
  },
  {
   "cell_type": "markdown",
   "metadata": {},
   "source": [
    "Now we define a distribution, for example, a normal distribution with mean zero and standard deviation 2."
   ]
  },
  {
   "cell_type": "code",
   "execution_count": 2,
   "metadata": {},
   "outputs": [
    {
     "data": {
      "text/plain": [
       "Distributions.Normal{Float64}(μ=0.0, σ=2.0)"
      ]
     },
     "execution_count": 2,
     "metadata": {},
     "output_type": "execute_result"
    }
   ],
   "source": [
    "using Distributions\n",
    "\n",
    "d = Normal(0,2)"
   ]
  },
  {
   "cell_type": "markdown",
   "metadata": {},
   "source": [
    "d is now the normal distribution with mean 2 and standard deviation 2. We can now evaluate, for example, the probability density function of d at some value. Say, we want to know the value of the density at 1.5:"
   ]
  },
  {
   "cell_type": "code",
   "execution_count": 3,
   "metadata": {},
   "outputs": [
    {
     "data": {
      "text/plain": [
       "0.15056871607740221"
      ]
     },
     "execution_count": 3,
     "metadata": {},
     "output_type": "execute_result"
    }
   ],
   "source": [
    "pdf(d,1.5)"
   ]
  },
  {
   "cell_type": "markdown",
   "metadata": {},
   "source": [
    "or the value of the cumulative density function at 1.7"
   ]
  },
  {
   "cell_type": "code",
   "execution_count": 4,
   "metadata": {},
   "outputs": [
    {
     "data": {
      "text/plain": [
       "0.8023374568773076"
      ]
     },
     "execution_count": 4,
     "metadata": {},
     "output_type": "execute_result"
    }
   ],
   "source": [
    "cdf(d,1.7)"
   ]
  },
  {
   "cell_type": "code",
   "execution_count": 5,
   "metadata": {},
   "outputs": [
    {
     "data": {
      "text/plain": [
       "0.0"
      ]
     },
     "execution_count": 5,
     "metadata": {},
     "output_type": "execute_result"
    }
   ],
   "source": [
    "mean(d)"
   ]
  },
  {
   "cell_type": "code",
   "execution_count": 7,
   "metadata": {},
   "outputs": [
    {
     "data": {
      "text/plain": [
       "4.0"
      ]
     },
     "execution_count": 7,
     "metadata": {},
     "output_type": "execute_result"
    }
   ],
   "source": [
    "#variance of d\n",
    "var(d)"
   ]
  },
  {
   "cell_type": "markdown",
   "metadata": {},
   "source": [
    "Now suppose you want to draw a random number from the distribution d:"
   ]
  },
  {
   "cell_type": "code",
   "execution_count": 8,
   "metadata": {},
   "outputs": [
    {
     "data": {
      "text/plain": [
       "0.4271885393838926"
      ]
     },
     "execution_count": 8,
     "metadata": {},
     "output_type": "execute_result"
    }
   ],
   "source": [
    "#one random draw from distribution d\n",
    "rand(d)"
   ]
  },
  {
   "cell_type": "markdown",
   "metadata": {},
   "source": [
    "or maybe draw 20 times randomly from distribution d"
   ]
  },
  {
   "cell_type": "code",
   "execution_count": 9,
   "metadata": {},
   "outputs": [
    {
     "data": {
      "text/plain": [
       "20-element Array{Float64,1}:\n",
       "  0.642029  \n",
       "  2.19853   \n",
       " -0.00690752\n",
       "  0.0958534 \n",
       "  0.597686  \n",
       " -0.396904  \n",
       "  0.65368   \n",
       "  2.5723    \n",
       "  1.30255   \n",
       "  3.54623   \n",
       "  1.66978   \n",
       "  2.61968   \n",
       "  0.902419  \n",
       " -0.563166  \n",
       "  1.62759   \n",
       " -0.14616   \n",
       "  0.954293  \n",
       "  1.516     \n",
       " -1.46128   \n",
       "  1.87505   "
      ]
     },
     "execution_count": 9,
     "metadata": {},
     "output_type": "execute_result"
    }
   ],
   "source": [
    "rand(d,20)"
   ]
  },
  {
   "cell_type": "markdown",
   "metadata": {},
   "source": [
    "# Histograms"
   ]
  },
  {
   "cell_type": "markdown",
   "metadata": {},
   "source": [
    "We can use Plots to plot histograms."
   ]
  },
  {
   "cell_type": "code",
   "execution_count": 10,
   "metadata": {},
   "outputs": [
    {
     "data": {
      "text/html": [
       "<img src=\"data:image/png;base64,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\" />"
      ]
     },
     "execution_count": 10,
     "metadata": {},
     "output_type": "execute_result"
    }
   ],
   "source": [
    "using Plots\n",
    "\n",
    "histogram(rand(d,1000))"
   ]
  },
  {
   "cell_type": "markdown",
   "metadata": {},
   "source": [
    "This looks already somewhat like normal. If we increase the number of draws, the resulting  sample distribution looks more like the theoretical one."
   ]
  },
  {
   "cell_type": "code",
   "execution_count": 11,
   "metadata": {},
   "outputs": [
    {
     "data": {
      "text/html": [
       "<img src=\"data:image/png;base64,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\" />"
      ]
     },
     "execution_count": 11,
     "metadata": {},
     "output_type": "execute_result"
    }
   ],
   "source": [
    "histogram(rand(d,100000))"
   ]
  },
  {
   "cell_type": "markdown",
   "metadata": {},
   "source": [
    "# Other distributions"
   ]
  },
  {
   "cell_type": "markdown",
   "metadata": {},
   "source": [
    "Above we used the normal distributions. Of course, Distributions provides other distributions as well. Below some examples."
   ]
  },
  {
   "cell_type": "code",
   "execution_count": 17,
   "metadata": {},
   "outputs": [
    {
     "name": "stdout",
     "output_type": "stream",
     "text": [
      "du: 3.0 0.5 1.0 0.3333333333333333\n"
     ]
    },
    {
     "data": {
      "text/plain": [
       "Distributions.Exponential{Float64}(θ=1.0)"
      ]
     },
     "execution_count": 17,
     "metadata": {},
     "output_type": "execute_result"
    }
   ],
   "source": [
    "#uniform distribution between 2 and 4\n",
    "du = Uniform(2,4)\n",
    "#print some examples of how to use du\n",
    "println(\"du: \",mean(du),\" \",pdf(du,2.5),\" \",cdf(du,4.0),\" \",var(du))\n",
    "\n",
    "#chi squared distribution with 10 degress of freedom\n",
    "dchi = Chisq(10)\n",
    "\n",
    "#t-distribution with 3 degrees of freedom\n",
    "dt = TDist(3.0)\n",
    "\n",
    "#exponential with scale parameter 1.0\n",
    "de = Exponential(1.0)"
   ]
  },
  {
   "cell_type": "markdown",
   "metadata": {},
   "source": [
    "There also exist discrete distributions."
   ]
  },
  {
   "cell_type": "code",
   "execution_count": 16,
   "metadata": {},
   "outputs": [
    {
     "name": "stdout",
     "output_type": "stream",
     "text": [
      "0.6 0.24 0.4\n",
      "6.0 2.4000000000000004 0.11147673600000003\n"
     ]
    }
   ],
   "source": [
    "#Bernoulli with success rate 0.6, i.e. random variable that is 1 with prob 0.6 and 0 with prob 0.4\n",
    "db = Bernoulli(0.6)\n",
    "println(mean(db),\" \",var(db),\" \",pdf(db,0))\n",
    "\n",
    "#Binomial with success rate 0.6 and 10 repetitions\n",
    "dbin = Binomial(10,0.6)\n",
    "println(mean(dbin),\" \",var(dbin),\" \",pdf(dbin,4))"
   ]
  },
  {
   "cell_type": "markdown",
   "metadata": {},
   "source": [
    "# Application: Intertemporal consumption choice"
   ]
  },
  {
   "cell_type": "markdown",
   "metadata": {},
   "source": [
    "Suppose a consumer faces the following intertemporal consumption problem. He has a wealth of 100 today and has to decide how much he consumes today and how much he consumes tomorrow (the world ends after tomorrow, i.e. there is only consumption in period 1 or 2 and no other choice). The consumer derives utility $\\sqrt{c}$ by consuming $c$ in a given period and discounts the future with discount factor $0.9$. The interesting bit is that tomorrow he will get a random income $m$ which we assume to be distributed according to $\\chi^2$ distribution with 25 degres of freedom.\n",
    "\n",
    "The consumer's problem is therefore\n",
    "$$\\max_c \\mathbb{E}_m\\left[\\sqrt{c}+0.9*\\sqrt{100-c+m}\\right]$$\n",
    "Of course, one can solve this analytically but here we will go another route. We will solve this problem using Optim and we will evaluate the expectation using integration with quadgk."
   ]
  },
  {
   "cell_type": "code",
   "execution_count": 17,
   "metadata": {},
   "outputs": [
    {
     "data": {
      "text/plain": [
       "Results of Optimization Algorithm\n",
       " * Algorithm: Brent's Method\n",
       " * Search Interval: [0.000000, 100.000000]\n",
       " * Minimizer: 6.870476e+01\n",
       " * Minimum: -1.502850e+01\n",
       " * Iterations: 12\n",
       " * Convergence: max(|x - x_upper|, |x - x_lower|) <= 2*(1.5e-08*|x|+2.2e-16): true\n",
       " * Objective Function Calls: 13"
      ]
     },
     "execution_count": 17,
     "metadata": {},
     "output_type": "execute_result"
    }
   ],
   "source": [
    "using Optim\n",
    "\n",
    "#define distribution of m\n",
    "md = Chisq(25)\n",
    "\n",
    "function objective(c)\n",
    "    integrand(m) = (sqrt(c)+0.9*sqrt(100-c+m))*pdf(md,m)\n",
    "    return -quadgk(integrand,0,Inf)[1] #\"-\" because Optim searches for a minimizer\n",
    "end\n",
    "\n",
    "optimize(objective,0.0,100.0)"
   ]
  },
  {
   "cell_type": "markdown",
   "metadata": {},
   "source": [
    "So the result is to consume approximately 68.7 units today and save the rest."
   ]
  }
 ],
 "metadata": {
  "kernelspec": {
   "display_name": "Julia 0.6.0",
   "language": "julia",
   "name": "julia-0.6"
  },
  "language_info": {
   "file_extension": ".jl",
   "mimetype": "application/julia",
   "name": "julia",
   "version": "0.6.0"
  }
 },
 "nbformat": 4,
 "nbformat_minor": 2
}
