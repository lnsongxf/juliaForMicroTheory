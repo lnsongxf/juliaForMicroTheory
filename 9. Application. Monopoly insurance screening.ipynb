{
 "cells": [
  {
   "cell_type": "markdown",
   "metadata": {},
   "source": [
    "A monopoly insurer faces consumers of two risk types: A high risk consumer (h) will have an accident resulting in a monetary loss of $L$ with probability $a_h$ and a low risk consumer (l) will expereince the same loss only with probability $a_l<a_h$. The initial wealth of every consumer is $W$ and his Bernoulli utility function is $u$ which is assumed to be strictly increasing, strictly concave.\n",
    "\n",
    "The insurer maximizes his expected profits by offering a menu of two contracts, where each of the two contracts is tartegeted at one risk type. A contract consists of an insurance premium $p$ and an indemnity payment $C$. A menu can therefore be represented by $(p_h,C_h,p_l,C_l)$.\n",
    "\n",
    "A standard derivation implies that the profit maximizing menu will \n",
    "- give full coverage to the high risk type, i.e. $C_h=L$, and partial coverage to l, i.e. $C_l<L$\n",
    "- leave the low risk type with zero rent, i.e. l is equally well off by buying insurance and not buying insurance\n",
    "- leave h indifferent between his own contract and l's contract.\n",
    "\n",
    "These three results imply that the only free variable over which the monopolist optimizes is $C_l$: For a given $C_l$, \n",
    "- $p_l$ is determined as the premium that makes l indifferent to not buying insurance,\n",
    "- $p_h$ is such that h is indifferent between the two contracts (given that $C_h=L$).\n",
    "\n",
    "We can therefore write the monopolist's profit maximization problem essentially as a maximization problem over one variable. However, we first have to define functions that solve the two indifference conditions for $p_l$ and $p_h$ for a given $C_l$. Below we do exactly this after first defining the parameters and fixing a utility function. Here we use the CARA utility:\n",
    "$$u(x)=-e^{-x}$$\n",
    "where $e$ is Euler's number."
   ]
  },
  {
   "cell_type": "code",
   "execution_count": 20,
   "metadata": {},
   "outputs": [
    {
     "name": "stdout",
     "output_type": "stream",
     "text": [
      "Optimal Cl is 0.456; Optimal pl is 0.191; Optimal ph is 0.5\n"
     ]
    }
   ],
   "source": [
    "# use a package that can determine the zeros of a function\n",
    "using Roots\n",
    "# use a package that can maximize a one-dimensional function\n",
    "using Optim\n",
    "\n",
    "#parameters described above\n",
    "const W = 2.0\n",
    "const L = 1.0\n",
    "const al = 0.25\n",
    "const ah = 0.5\n",
    "const gamma = 0.3 # share of high risk types in the population\n",
    "\n",
    "# Bernoulli utility function\n",
    "u(x) = - ℯ^(-x)\n",
    "\n",
    "#indifference condition l, determines p_l\n",
    "function indiffl(Cl)\n",
    "    uNoInsurance = al*u(W-L)+(1-al)*u(W) #expected utility without insurance\n",
    "    uInsurance(p)= al*u(W-L-p+Cl)+(1-al)*u(W-p) # expected utility with insurance coverage Cl at premium p\n",
    "    difference(p) = uInsurance(p)-uNoInsurance # expected utility difference between insurance and no insurance \n",
    "    return fzero(difference,0.05) # returns the premium at which difference is 0 using starting value 0.05\n",
    "end\n",
    "\n",
    "# indifference condition h, determines p_h\n",
    "function indiffh(Cl)\n",
    "    pl = indiffl(Cl) # get p_l from function indiffl\n",
    "    uContractl = ah*u(W-L-pl+Cl)+(1-ah)*u(W-pl) #expected utility when buying l contract\n",
    "    uContracth(p) = u(W-p) #expected utility when buying h contract; note by full insurance utility is same with and without loss\n",
    "    difference(p) = uContracth(p)-uContractl # expected utility difference between insurance and no insurance \n",
    "    return fzero(difference,pl+0.05) # returns the premium at which difference is 0 using starting value pl+0.05\n",
    "end\n",
    "\n",
    "# profit for a given Cl\n",
    "function profit(Cl)\n",
    "    pl = indiffl(Cl)\n",
    "    ph = indiffh(Cl)\n",
    "    Ch = 1.0\n",
    "    return (1-gamma)*(pl-al*Cl)+gamma*(ph-ah*Ch)\n",
    "end\n",
    "\n",
    "# profit maximization\n",
    "Clstar = optimize(Cl-> -profit(Cl),0.0,L) #as the optimize command minimizes the function, I let it minimize -profit in the domain (0.0, L)\n",
    "#obtaining optimal pl and ph from optimal Cl\n",
    "plstar = indiffl(Clstar.minimizer)\n",
    "phstar = indiffh(Clstar.minimizer)\n",
    "# printing results\n",
    "println(\"Optimal Cl is \",round(Clstar.minimizer;digits=3), \"; Optimal pl is \",round(plstar;digits=3), \"; Optimal ph is \",round(phstar;digits=3),)\n"
   ]
  },
  {
   "cell_type": "markdown",
   "metadata": {},
   "source": [
    "To illustrate the calculation above, we can plot profits as a function of $C_l$:"
   ]
  },
  {
   "cell_type": "code",
   "execution_count": 27,
   "metadata": {},
   "outputs": [
    {
     "ename": "ArgumentError",
     "evalue": "ArgumentError: Package LaTeXStrings not found in current path:\n- Run `Pkg.add(\"LaTeXStrings\")` to install the LaTeXStrings package.\n",
     "output_type": "error",
     "traceback": [
      "ArgumentError: Package LaTeXStrings not found in current path:\n- Run `Pkg.add(\"LaTeXStrings\")` to install the LaTeXStrings package.\n",
      "",
      "Stacktrace:",
      " [1] require(::Module, ::Symbol) at ./loading.jl:817",
      " [2] top-level scope at In[27]:3"
     ]
    }
   ],
   "source": [
    "# use a package that can plot functions\n",
    "using Plots\n",
    "using LaTeXStrings\n",
    "\n",
    "# plot profit function between 0 and L\n",
    "plot(0:0.01:L,profit, label=\"profits\",xlabel=L\"$C_l$\")"
   ]
  },
  {
   "cell_type": "code",
   "execution_count": null,
   "metadata": {},
   "outputs": [],
   "source": []
  }
 ],
 "metadata": {
  "kernelspec": {
   "display_name": "Julia 0.7.0",
   "language": "julia",
   "name": "julia-0.7"
  },
  "language_info": {
   "file_extension": ".jl",
   "mimetype": "application/julia",
   "name": "julia",
   "version": "0.7.0"
  }
 },
 "nbformat": 4,
 "nbformat_minor": 2
}
